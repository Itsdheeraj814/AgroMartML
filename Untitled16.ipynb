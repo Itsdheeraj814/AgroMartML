{
  "nbformat": 4,
  "nbformat_minor": 0,
  "metadata": {
    "colab": {
      "provenance": [],
      "mount_file_id": "18-GUD-ctLt4k1USJ9uQKphQ5WGN3gH1x",
      "authorship_tag": "ABX9TyMjJgYGWnfAdiMM99c6fA75",
      "include_colab_link": true
    },
    "kernelspec": {
      "name": "python3",
      "display_name": "Python 3"
    },
    "language_info": {
      "name": "python"
    }
  },
  "cells": [
    {
      "cell_type": "markdown",
      "metadata": {
        "id": "view-in-github",
        "colab_type": "text"
      },
      "source": [
        "<a href=\"https://colab.research.google.com/github/Itsdheeraj814/AgroMartML/blob/master/Untitled16.ipynb\" target=\"_parent\"><img src=\"https://colab.research.google.com/assets/colab-badge.svg\" alt=\"Open In Colab\"/></a>"
      ]
    },
    {
      "cell_type": "code",
      "execution_count": null,
      "metadata": {
        "colab": {
          "base_uri": "https://localhost:8080/"
        },
        "id": "-a8BSSUof5sG",
        "outputId": "a8924881-ad6d-4c44-f3cf-1e2cb8614b8f"
      },
      "outputs": [
        {
          "output_type": "stream",
          "name": "stdout",
          "text": [
            "Drive already mounted at /content/drive; to attempt to forcibly remount, call drive.mount(\"/content/drive\", force_remount=True).\n"
          ]
        }
      ],
      "source": [
        "# Mount Google Drive\n",
        "from google.colab import drive\n",
        "drive.mount('/content/drive')\n",
        "\n",
        "# Import required libraries\n",
        "import numpy as np\n",
        "import os\n",
        "import matplotlib.pyplot as plt\n",
        "import cv2\n",
        "import tensorflow as tf\n",
        "from tensorflow.keras.models import Sequential\n",
        "from tensorflow.keras.layers import Dense, GlobalAveragePooling2D, Dropout\n",
        "from tensorflow.keras.preprocessing.image import ImageDataGenerator, load_img, img_to_array\n",
        "from tensorflow.keras.callbacks import ReduceLROnPlateau\n",
        "from tensorflow.keras.applications import MobileNetV2\n",
        "from sklearn.utils.class_weight import compute_class_weight\n"
      ]
    },
    {
      "cell_type": "code",
      "source": [
        "# Set dataset paths\n",
        "train_dir = '/content/drive/MyDrive/data/archive/FishImgDataset/train'\n",
        "test_dir = '/content/drive/MyDrive/data/archive/FishImgDataset/test'\n",
        "\n",
        "# Verify paths exist\n",
        "if not os.path.exists(train_dir):\n",
        "    raise FileNotFoundError(f\"Training directory not found: {train_dir}\")\n",
        "if not os.path.exists(test_dir):\n",
        "    raise FileNotFoundError(f\"Testing directory not found: {test_dir}\")\n",
        "\n",
        "# Clean hidden files\n",
        "!find /content/drive/MyDrive -type d -name \".ipynb_checkpoints\" -exec rm -rf {} +\n"
      ],
      "metadata": {
        "id": "Yq19LnuxgIef"
      },
      "execution_count": null,
      "outputs": []
    },
    {
      "cell_type": "code",
      "source": [
        "# Configure data generators\n",
        "img_size = 128  # Reduced image size for faster training\n",
        "batch_size = 16  # Smaller batch size\n",
        "\n",
        "train_datagen = ImageDataGenerator(\n",
        "    rescale=1./255,\n",
        "    rotation_range=20,\n",
        "    width_shift_range=0.2,\n",
        "    height_shift_range=0.2,\n",
        "    shear_range=0.2,\n",
        "    zoom_range=0.2,\n",
        "    horizontal_flip=True,\n",
        "    validation_split=0.2\n",
        ")\n",
        "\n",
        "test_datagen = ImageDataGenerator(rescale=1./255)\n",
        "\n",
        "# Create datasets\n",
        "train_generator = train_datagen.flow_from_directory(\n",
        "    train_dir,\n",
        "    target_size=(img_size, img_size),\n",
        "    batch_size=batch_size,\n",
        "    class_mode='categorical',\n",
        "    subset='training'\n",
        ")\n",
        "\n",
        "validation_generator = train_datagen.flow_from_directory(\n",
        "    train_dir,\n",
        "    target_size=(img_size, img_size),\n",
        "    batch_size=batch_size,\n",
        "    class_mode='categorical',\n",
        "    subset='validation'\n",
        ")\n",
        "\n",
        "test_generator = test_datagen.flow_from_directory(\n",
        "    test_dir,\n",
        "    target_size=(img_size, img_size),\n",
        "    batch_size=batch_size,\n",
        "    class_mode='categorical',\n",
        "    shuffle=False\n",
        ")\n",
        "\n",
        "# Create class mapping\n",
        "class_names = list(train_generator.class_indices.keys())  # Now includes 'Trash-static' & 'Coral-static'\n",
        "ResultMap = {v: k for k, v in train_generator.class_indices.items()}\n",
        "print(f\"Updated Class Mapping: {ResultMap}\")\n",
        "\n",
        "# Compute class weights to balance dataset\n",
        "class_weights = compute_class_weight(\n",
        "    class_weight='balanced',\n",
        "    classes=np.unique(train_generator.classes),\n",
        "    y=train_generator.classes\n",
        ")\n",
        "class_weights = dict(enumerate(class_weights))\n",
        "print(f\"Updated Class Weights: {class_weights}\")\n",
        "\n"
      ],
      "metadata": {
        "colab": {
          "base_uri": "https://localhost:8080/"
        },
        "id": "tYCCLg3ngLlC",
        "outputId": "f239429d-b2b4-490b-9ee2-fa1a3c2aefdd"
      },
      "execution_count": null,
      "outputs": [
        {
          "output_type": "stream",
          "name": "stdout",
          "text": [
            "Found 7225 images belonging to 33 classes.\n",
            "Found 1787 images belonging to 33 classes.\n",
            "Found 1840 images belonging to 33 classes.\n",
            "Updated Class Mapping: {0: 'Bangus', 1: 'Big Head Carp', 2: 'Black Spotted Barb', 3: 'Catfish', 4: 'Climbing Perch', 5: 'Coral-static', 6: 'Fourfinger Threadfin', 7: 'Freshwater Eel', 8: 'Glass Perchlet', 9: 'Goby', 10: 'Gold Fish', 11: 'Gourami', 12: 'Grass Carp', 13: 'Green Spotted Puffer', 14: 'Indian Carp', 15: 'Indo-Pacific Tarpon', 16: 'Jaguar Gapote', 17: 'Janitor Fish', 18: 'Knifefish', 19: 'Long-Snouted Pipefish', 20: 'Mosquito Fish', 21: 'Mudfish', 22: 'Mullet', 23: 'Pangasius', 24: 'Perch', 25: 'Scat Fish', 26: 'Silver Barb', 27: 'Silver Carp', 28: 'Silver Perch', 29: 'Snakehead', 30: 'Tenpounder', 31: 'Tilapia', 32: 'Trash-static'}\n",
            "Updated Class Weights: {0: 1.5980977659809776, 1: 1.3598720120459251, 2: 1.3683712121212122, 3: 0.8486023020906742, 4: 1.7945851962245405, 5: 2.167716771677168, 6: 1.4034576534576535, 7: 1.00893729925988, 8: 0.6884886601867733, 9: 0.4504925801222098, 10: 1.3269054178145088, 11: 0.8792746744553973, 12: 0.22571071540143706, 13: 2.487947658402204, 14: 1.0425685425685425, 15: 1.4693919056335163, 16: 1.1898880105401846, 17: 0.9560672224427683, 18: 0.8552320075757576, 19: 1.0679970436067998, 20: 1.0732323232323233, 21: 1.440390749601276, 22: 1.5638528138528138, 23: 1.412512218963832, 24: 0.9316569954867827, 25: 1.7656402737047898, 26: 0.8293158861340679, 27: 1.1462795494209106, 28: 0.9644907221999733, 29: 1.1770935158031932, 30: 0.9862134862134863, 31: 0.9277092963533642, 32: 3.2196969696969697}\n"
          ]
        }
      ]
    },
    {
      "cell_type": "code",
      "source": [
        "# Load pre-trained MobileNetV2 model\n",
        "base_model = MobileNetV2(\n",
        "    input_shape=(img_size, img_size, 3),\n",
        "    include_top=False,\n",
        "    weights='imagenet'\n",
        ")\n",
        "\n",
        "# Freeze the base model\n",
        "base_model.trainable = False\n",
        "\n",
        "# Build the model\n",
        "model = Sequential([\n",
        "    base_model,\n",
        "    GlobalAveragePooling2D(),\n",
        "    Dense(256, activation='relu'),  # Smaller dense layer\n",
        "    Dropout(0.5),\n",
        "    Dense(len(class_names), activation='softmax')  # Adjusted for new class count\n",
        "])\n",
        "\n",
        "# Compile the model\n",
        "model.compile(optimizer=tf.keras.optimizers.Adam(learning_rate=0.0001),\n",
        "              loss='categorical_crossentropy',\n",
        "              metrics=['accuracy'])\n",
        "model.summary()\n"
      ],
      "metadata": {
        "colab": {
          "base_uri": "https://localhost:8080/",
          "height": 337
        },
        "id": "Slux82EqgOyh",
        "outputId": "4b71a8c2-d4cc-45ba-8c61-2f9ae8e855ae"
      },
      "execution_count": null,
      "outputs": [
        {
          "output_type": "stream",
          "name": "stdout",
          "text": [
            "Downloading data from https://storage.googleapis.com/tensorflow/keras-applications/mobilenet_v2/mobilenet_v2_weights_tf_dim_ordering_tf_kernels_1.0_128_no_top.h5\n",
            "\u001b[1m9406464/9406464\u001b[0m \u001b[32m━━━━━━━━━━━━━━━━━━━━\u001b[0m\u001b[37m\u001b[0m \u001b[1m0s\u001b[0m 0us/step\n"
          ]
        },
        {
          "output_type": "display_data",
          "data": {
            "text/plain": [
              "\u001b[1mModel: \"sequential\"\u001b[0m\n"
            ],
            "text/html": [
              "<pre style=\"white-space:pre;overflow-x:auto;line-height:normal;font-family:Menlo,'DejaVu Sans Mono',consolas,'Courier New',monospace\"><span style=\"font-weight: bold\">Model: \"sequential\"</span>\n",
              "</pre>\n"
            ]
          },
          "metadata": {}
        },
        {
          "output_type": "display_data",
          "data": {
            "text/plain": [
              "┏━━━━━━━━━━━━━━━━━━━━━━━━━━━━━━━━━━━━━━┳━━━━━━━━━━━━━━━━━━━━━━━━━━━━━┳━━━━━━━━━━━━━━━━━┓\n",
              "┃\u001b[1m \u001b[0m\u001b[1mLayer (type)                        \u001b[0m\u001b[1m \u001b[0m┃\u001b[1m \u001b[0m\u001b[1mOutput Shape               \u001b[0m\u001b[1m \u001b[0m┃\u001b[1m \u001b[0m\u001b[1m        Param #\u001b[0m\u001b[1m \u001b[0m┃\n",
              "┡━━━━━━━━━━━━━━━━━━━━━━━━━━━━━━━━━━━━━━╇━━━━━━━━━━━━━━━━━━━━━━━━━━━━━╇━━━━━━━━━━━━━━━━━┩\n",
              "│ mobilenetv2_1.00_128 (\u001b[38;5;33mFunctional\u001b[0m)    │ (\u001b[38;5;45mNone\u001b[0m, \u001b[38;5;34m4\u001b[0m, \u001b[38;5;34m4\u001b[0m, \u001b[38;5;34m1280\u001b[0m)          │       \u001b[38;5;34m2,257,984\u001b[0m │\n",
              "├──────────────────────────────────────┼─────────────────────────────┼─────────────────┤\n",
              "│ global_average_pooling2d             │ (\u001b[38;5;45mNone\u001b[0m, \u001b[38;5;34m1280\u001b[0m)                │               \u001b[38;5;34m0\u001b[0m │\n",
              "│ (\u001b[38;5;33mGlobalAveragePooling2D\u001b[0m)             │                             │                 │\n",
              "├──────────────────────────────────────┼─────────────────────────────┼─────────────────┤\n",
              "│ dense (\u001b[38;5;33mDense\u001b[0m)                        │ (\u001b[38;5;45mNone\u001b[0m, \u001b[38;5;34m256\u001b[0m)                 │         \u001b[38;5;34m327,936\u001b[0m │\n",
              "├──────────────────────────────────────┼─────────────────────────────┼─────────────────┤\n",
              "│ dropout (\u001b[38;5;33mDropout\u001b[0m)                    │ (\u001b[38;5;45mNone\u001b[0m, \u001b[38;5;34m256\u001b[0m)                 │               \u001b[38;5;34m0\u001b[0m │\n",
              "├──────────────────────────────────────┼─────────────────────────────┼─────────────────┤\n",
              "│ dense_1 (\u001b[38;5;33mDense\u001b[0m)                      │ (\u001b[38;5;45mNone\u001b[0m, \u001b[38;5;34m33\u001b[0m)                  │           \u001b[38;5;34m8,481\u001b[0m │\n",
              "└──────────────────────────────────────┴─────────────────────────────┴─────────────────┘\n"
            ],
            "text/html": [
              "<pre style=\"white-space:pre;overflow-x:auto;line-height:normal;font-family:Menlo,'DejaVu Sans Mono',consolas,'Courier New',monospace\">┏━━━━━━━━━━━━━━━━━━━━━━━━━━━━━━━━━━━━━━┳━━━━━━━━━━━━━━━━━━━━━━━━━━━━━┳━━━━━━━━━━━━━━━━━┓\n",
              "┃<span style=\"font-weight: bold\"> Layer (type)                         </span>┃<span style=\"font-weight: bold\"> Output Shape                </span>┃<span style=\"font-weight: bold\">         Param # </span>┃\n",
              "┡━━━━━━━━━━━━━━━━━━━━━━━━━━━━━━━━━━━━━━╇━━━━━━━━━━━━━━━━━━━━━━━━━━━━━╇━━━━━━━━━━━━━━━━━┩\n",
              "│ mobilenetv2_1.00_128 (<span style=\"color: #0087ff; text-decoration-color: #0087ff\">Functional</span>)    │ (<span style=\"color: #00d7ff; text-decoration-color: #00d7ff\">None</span>, <span style=\"color: #00af00; text-decoration-color: #00af00\">4</span>, <span style=\"color: #00af00; text-decoration-color: #00af00\">4</span>, <span style=\"color: #00af00; text-decoration-color: #00af00\">1280</span>)          │       <span style=\"color: #00af00; text-decoration-color: #00af00\">2,257,984</span> │\n",
              "├──────────────────────────────────────┼─────────────────────────────┼─────────────────┤\n",
              "│ global_average_pooling2d             │ (<span style=\"color: #00d7ff; text-decoration-color: #00d7ff\">None</span>, <span style=\"color: #00af00; text-decoration-color: #00af00\">1280</span>)                │               <span style=\"color: #00af00; text-decoration-color: #00af00\">0</span> │\n",
              "│ (<span style=\"color: #0087ff; text-decoration-color: #0087ff\">GlobalAveragePooling2D</span>)             │                             │                 │\n",
              "├──────────────────────────────────────┼─────────────────────────────┼─────────────────┤\n",
              "│ dense (<span style=\"color: #0087ff; text-decoration-color: #0087ff\">Dense</span>)                        │ (<span style=\"color: #00d7ff; text-decoration-color: #00d7ff\">None</span>, <span style=\"color: #00af00; text-decoration-color: #00af00\">256</span>)                 │         <span style=\"color: #00af00; text-decoration-color: #00af00\">327,936</span> │\n",
              "├──────────────────────────────────────┼─────────────────────────────┼─────────────────┤\n",
              "│ dropout (<span style=\"color: #0087ff; text-decoration-color: #0087ff\">Dropout</span>)                    │ (<span style=\"color: #00d7ff; text-decoration-color: #00d7ff\">None</span>, <span style=\"color: #00af00; text-decoration-color: #00af00\">256</span>)                 │               <span style=\"color: #00af00; text-decoration-color: #00af00\">0</span> │\n",
              "├──────────────────────────────────────┼─────────────────────────────┼─────────────────┤\n",
              "│ dense_1 (<span style=\"color: #0087ff; text-decoration-color: #0087ff\">Dense</span>)                      │ (<span style=\"color: #00d7ff; text-decoration-color: #00d7ff\">None</span>, <span style=\"color: #00af00; text-decoration-color: #00af00\">33</span>)                  │           <span style=\"color: #00af00; text-decoration-color: #00af00\">8,481</span> │\n",
              "└──────────────────────────────────────┴─────────────────────────────┴─────────────────┘\n",
              "</pre>\n"
            ]
          },
          "metadata": {}
        },
        {
          "output_type": "display_data",
          "data": {
            "text/plain": [
              "\u001b[1m Total params: \u001b[0m\u001b[38;5;34m2,594,401\u001b[0m (9.90 MB)\n"
            ],
            "text/html": [
              "<pre style=\"white-space:pre;overflow-x:auto;line-height:normal;font-family:Menlo,'DejaVu Sans Mono',consolas,'Courier New',monospace\"><span style=\"font-weight: bold\"> Total params: </span><span style=\"color: #00af00; text-decoration-color: #00af00\">2,594,401</span> (9.90 MB)\n",
              "</pre>\n"
            ]
          },
          "metadata": {}
        },
        {
          "output_type": "display_data",
          "data": {
            "text/plain": [
              "\u001b[1m Trainable params: \u001b[0m\u001b[38;5;34m336,417\u001b[0m (1.28 MB)\n"
            ],
            "text/html": [
              "<pre style=\"white-space:pre;overflow-x:auto;line-height:normal;font-family:Menlo,'DejaVu Sans Mono',consolas,'Courier New',monospace\"><span style=\"font-weight: bold\"> Trainable params: </span><span style=\"color: #00af00; text-decoration-color: #00af00\">336,417</span> (1.28 MB)\n",
              "</pre>\n"
            ]
          },
          "metadata": {}
        },
        {
          "output_type": "display_data",
          "data": {
            "text/plain": [
              "\u001b[1m Non-trainable params: \u001b[0m\u001b[38;5;34m2,257,984\u001b[0m (8.61 MB)\n"
            ],
            "text/html": [
              "<pre style=\"white-space:pre;overflow-x:auto;line-height:normal;font-family:Menlo,'DejaVu Sans Mono',consolas,'Courier New',monospace\"><span style=\"font-weight: bold\"> Non-trainable params: </span><span style=\"color: #00af00; text-decoration-color: #00af00\">2,257,984</span> (8.61 MB)\n",
              "</pre>\n"
            ]
          },
          "metadata": {}
        }
      ]
    },
    {
      "cell_type": "code",
      "source": [
        "# Add learning rate scheduler\n",
        "reduce_lr = ReduceLROnPlateau(monitor='val_loss', factor=0.2, patience=3, min_lr=0.00001)\n",
        "\n",
        "# Train model\n",
        "history = model.fit(\n",
        "    train_generator,\n",
        "    validation_data=validation_generator,\n",
        "    epochs=30,  # Fewer epochs for faster training\n",
        "    callbacks=[reduce_lr],\n",
        "    class_weight=class_weights,\n",
        "    verbose=5\n",
        ")\n"
      ],
      "metadata": {
        "colab": {
          "base_uri": "https://localhost:8080/"
        },
        "id": "q1iTTeCPgYXg",
        "outputId": "4daf1ce3-8cbd-4a4a-c34e-0367d9ac4b25"
      },
      "execution_count": null,
      "outputs": [
        {
          "output_type": "stream",
          "name": "stderr",
          "text": [
            "/usr/local/lib/python3.11/dist-packages/keras/src/trainers/data_adapters/py_dataset_adapter.py:121: UserWarning: Your `PyDataset` class should call `super().__init__(**kwargs)` in its constructor. `**kwargs` can include `workers`, `use_multiprocessing`, `max_queue_size`. Do not pass these arguments to `fit()`, as they will be ignored.\n",
            "  self._warn_if_super_not_called()\n"
          ]
        },
        {
          "output_type": "stream",
          "name": "stdout",
          "text": [
            "Epoch 1/30\n",
            "Epoch 2/30\n",
            "Epoch 3/30\n",
            "Epoch 4/30\n",
            "Epoch 5/30\n",
            "Epoch 6/30\n",
            "Epoch 7/30\n",
            "Epoch 8/30\n",
            "Epoch 9/30\n",
            "Epoch 10/30\n",
            "Epoch 11/30\n",
            "Epoch 12/30\n",
            "Epoch 13/30\n",
            "Epoch 14/30\n",
            "Epoch 15/30\n",
            "Epoch 16/30\n",
            "Epoch 17/30\n",
            "Epoch 18/30\n",
            "Epoch 19/30\n",
            "Epoch 20/30\n",
            "Epoch 21/30\n",
            "Epoch 22/30\n",
            "Epoch 23/30\n",
            "Epoch 24/30\n",
            "Epoch 25/30\n",
            "Epoch 26/30\n",
            "Epoch 27/30\n",
            "Epoch 28/30\n",
            "Epoch 29/30\n",
            "Epoch 30/30\n"
          ]
        }
      ]
    },
    {
      "cell_type": "code",
      "source": [
        "# Unfreeze the top layers of the base model\n",
        "base_model.trainable = True\n",
        "for layer in base_model.layers[:-10]:  # Unfreeze last 10 layers\n",
        "    layer.trainable = False\n",
        "\n",
        "# Recompile the model with a lower learning rate\n",
        "model.compile(optimizer=tf.keras.optimizers.Adam(learning_rate=0.00001),\n",
        "              loss='categorical_crossentropy',\n",
        "              metrics=['accuracy'])\n",
        "\n",
        "# Continue training\n",
        "history_fine = model.fit(\n",
        "    train_generator,\n",
        "    validation_data=validation_generator,\n",
        "    epochs=15,  # Fewer epochs for fine-tuning\n",
        "    callbacks=[reduce_lr],\n",
        "    class_weight=class_weights,\n",
        "    verbose=2\n",
        ")\n"
      ],
      "metadata": {
        "colab": {
          "base_uri": "https://localhost:8080/"
        },
        "id": "wvMpLwpNaCVC",
        "outputId": "4e28b914-891c-4fe2-9942-3191fc55ff00"
      },
      "execution_count": null,
      "outputs": [
        {
          "output_type": "stream",
          "name": "stdout",
          "text": [
            "Epoch 1/15\n",
            "452/452 - 263s - 581ms/step - accuracy: 0.6292 - loss: 1.2373 - val_accuracy: 0.6989 - val_loss: 1.0412 - learning_rate: 1.0000e-05\n",
            "Epoch 2/15\n",
            "452/452 - 289s - 640ms/step - accuracy: 0.6664 - loss: 1.0577 - val_accuracy: 0.6961 - val_loss: 1.0593 - learning_rate: 1.0000e-05\n",
            "Epoch 3/15\n",
            "452/452 - 248s - 550ms/step - accuracy: 0.6826 - loss: 1.0160 - val_accuracy: 0.6989 - val_loss: 1.0264 - learning_rate: 1.0000e-05\n",
            "Epoch 4/15\n",
            "452/452 - 264s - 585ms/step - accuracy: 0.6940 - loss: 0.9556 - val_accuracy: 0.6945 - val_loss: 1.0788 - learning_rate: 1.0000e-05\n",
            "Epoch 5/15\n",
            "452/452 - 250s - 552ms/step - accuracy: 0.6973 - loss: 0.9451 - val_accuracy: 0.7017 - val_loss: 1.0592 - learning_rate: 1.0000e-05\n",
            "Epoch 6/15\n",
            "452/452 - 260s - 576ms/step - accuracy: 0.7131 - loss: 0.9084 - val_accuracy: 0.7090 - val_loss: 1.0351 - learning_rate: 1.0000e-05\n",
            "Epoch 7/15\n",
            "452/452 - 254s - 561ms/step - accuracy: 0.7239 - loss: 0.8605 - val_accuracy: 0.7068 - val_loss: 1.0370 - learning_rate: 1.0000e-05\n",
            "Epoch 8/15\n",
            "452/452 - 257s - 569ms/step - accuracy: 0.7243 - loss: 0.8479 - val_accuracy: 0.7068 - val_loss: 1.0504 - learning_rate: 1.0000e-05\n",
            "Epoch 9/15\n",
            "452/452 - 250s - 553ms/step - accuracy: 0.7240 - loss: 0.8346 - val_accuracy: 0.7135 - val_loss: 1.0360 - learning_rate: 1.0000e-05\n",
            "Epoch 10/15\n",
            "452/452 - 271s - 600ms/step - accuracy: 0.7367 - loss: 0.8163 - val_accuracy: 0.7096 - val_loss: 1.0285 - learning_rate: 1.0000e-05\n",
            "Epoch 11/15\n",
            "452/452 - 243s - 537ms/step - accuracy: 0.7380 - loss: 0.8190 - val_accuracy: 0.7152 - val_loss: 1.0060 - learning_rate: 1.0000e-05\n",
            "Epoch 12/15\n",
            "452/452 - 250s - 554ms/step - accuracy: 0.7377 - loss: 0.8049 - val_accuracy: 0.7062 - val_loss: 1.0288 - learning_rate: 1.0000e-05\n",
            "Epoch 13/15\n",
            "452/452 - 249s - 551ms/step - accuracy: 0.7463 - loss: 0.7740 - val_accuracy: 0.7174 - val_loss: 1.0212 - learning_rate: 1.0000e-05\n",
            "Epoch 14/15\n",
            "452/452 - 245s - 542ms/step - accuracy: 0.7446 - loss: 0.7714 - val_accuracy: 0.7157 - val_loss: 1.0021 - learning_rate: 1.0000e-05\n",
            "Epoch 15/15\n",
            "452/452 - 253s - 559ms/step - accuracy: 0.7437 - loss: 0.7803 - val_accuracy: 0.7331 - val_loss: 0.9696 - learning_rate: 1.0000e-05\n"
          ]
        }
      ]
    },
    {
      "cell_type": "code",
      "source": [
        "# Evaluate on test set\n",
        "test_loss, test_acc = model.evaluate(test_generator)\n",
        "print(f\"\\nTest Accuracy: {test_acc:.2%}\")\n",
        "print(f\"Test Loss: {test_loss:.4f}\")\n",
        "\n",
        "# Plot training history\n",
        "plt.figure(figsize=(12, 5))\n",
        "\n",
        "plt.subplot(1, 2, 1)\n",
        "plt.plot(history.history['accuracy'], label='Train')\n",
        "plt.plot(history.history['val_accuracy'], label='Validation')\n",
        "plt.title('Accuracy')\n",
        "plt.legend()\n",
        "\n",
        "plt.subplot(1, 2, 2)\n",
        "plt.plot(history.history['loss'], label='Train')\n",
        "plt.plot(history.history['val_loss'], label='Validation')\n",
        "plt.title('Loss')\n",
        "plt.legend()\n",
        "\n",
        "plt.tight_layout()\n",
        "plt.show()\n"
      ],
      "metadata": {
        "colab": {
          "base_uri": "https://localhost:8080/",
          "height": 576
        },
        "id": "PQWgDFPeaAlA",
        "outputId": "f6c59b03-1df9-42a6-cc6b-61891aaaa949"
      },
      "execution_count": null,
      "outputs": [
        {
          "output_type": "stream",
          "name": "stdout",
          "text": [
            "\u001b[1m115/115\u001b[0m \u001b[32m━━━━━━━━━━━━━━━━━━━━\u001b[0m\u001b[37m\u001b[0m \u001b[1m674s\u001b[0m 6s/step - accuracy: 0.8601 - loss: 0.5585\n",
            "\n",
            "Test Accuracy: 86.47%\n",
            "Test Loss: 0.4990\n"
          ]
        },
        {
          "output_type": "display_data",
          "data": {
            "text/plain": [
              "<Figure size 1200x500 with 2 Axes>"
            ],
            "image/png": "[encoded data removed]"
          },
          "metadata": {}
        }
      ]
    },
    {
      "cell_type": "code",
      "source": [
        "# Save model\n",
        "model.save('/content/drive/MyDrive/data/archive/FishImgDataset/fish_classifier_v5.keras')\n",
        "print(\"Model saved in .keras format\")\n"
      ],
      "metadata": {
        "colab": {
          "base_uri": "https://localhost:8080/"
        },
        "id": "aRyLHQBWghSL",
        "outputId": "2d15d7ed-8f82-4df1-9526-c2acd060e6c3"
      },
      "execution_count": null,
      "outputs": [
        {
          "output_type": "stream",
          "name": "stdout",
          "text": [
            "Model saved in .keras format\n"
          ]
        }
      ]
    },
    {
      "cell_type": "code",
      "source": [
        "def predict_fish(image_path):\n",
        "    try:\n",
        "        # Load original image for display\n",
        "        original_img = cv2.imread(image_path)\n",
        "        if original_img is None:\n",
        "            raise FileNotFoundError(\"Image not loaded properly\")\n",
        "        original_img = cv2.cvtColor(original_img, cv2.COLOR_BGR2RGB)\n",
        "\n",
        "        # Load and preprocess image for prediction\n",
        "        img = load_img(image_path, target_size=(img_size, img_size))\n",
        "        img_array = img_to_array(img)/255.0\n",
        "        img_array = np.expand_dims(img_array, axis=0)\n",
        "\n",
        "        # Make prediction\n",
        "        prediction = model.predict(img_array)\n",
        "        predicted_index = np.argmax(prediction)\n",
        "        predicted_class = ResultMap[predicted_index]\n",
        "        confidence = np.max(prediction)\n",
        "\n",
        "        # Display results\n",
        "        plt.figure(figsize=(8,8))\n",
        "        plt.imshow(original_img)\n",
        "        plt.axis('off')\n",
        "        plt.title(f\"Prediction: {predicted_class}\\nConfidence: {confidence:.2%}\")\n",
        "        plt.show()\n",
        "\n",
        "        print(f\"Top 3 Predictions:\")\n",
        "        top_indices = np.argsort(prediction[0])[::-1][:3]\n",
        "        for i, idx in enumerate(top_indices):\n",
        "            print(f\"{i+1}. {ResultMap[idx]} ({prediction[0][idx]:.2%})\")\n",
        "\n",
        "        return predicted_class\n",
        "\n",
        "    except Exception as e:\n",
        "        print(f\"Error: {str(e)}\")\n",
        "        return None\n"
      ],
      "metadata": {
        "id": "g1VTM7ySgqU7"
      },
      "execution_count": null,
      "outputs": []
    }
  ]
}